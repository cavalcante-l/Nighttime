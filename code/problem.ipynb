{
 "cells": [
  {
   "cell_type": "code",
   "execution_count": 2,
   "metadata": {},
   "outputs": [],
   "source": [
    "import rasterio\n",
    "import geopandas as gpd\n",
    "\n",
    "drt_img = r'D:\\Programming\\NightLight\\images\\20180601_C.tif'\n",
    "drt_shp = r'D:\\Shapes\\Shape_Brasil\\BR\\UF-Brasil_wgs84.shp'\n",
    "\n",
    "img = rasterio.open(drt_img)\n",
    "tif = img.read(1)\n"
   ]
  },
  {
   "cell_type": "code",
   "execution_count": 4,
   "metadata": {},
   "outputs": [
    {
     "output_type": "stream",
     "name": "stdout",
     "text": "{'crs': CRS.from_epsg(4326), 'bounds': BoundingBox(left=-74.00088172724648, bottom=-33.75694751500045, right=-34.78941957542937, top=5.274851579992756), 'wkt': True}\n"
    }
   ],
   "source": [
    "info = {'crs':img.crs,\n",
    "        'bounds':img.bounds,\n",
    "        'wkt':img.crs.is_epsg_code}\n",
    "print(info)"
   ]
  },
  {
   "cell_type": "code",
   "execution_count": 9,
   "metadata": {},
   "outputs": [
    {
     "output_type": "error",
     "ename": "TypeError",
     "evalue": "'property' object is not callable",
     "traceback": [
      "\u001b[1;31m---------------------------------------------------------------------------\u001b[0m",
      "\u001b[1;31mTypeError\u001b[0m                                 Traceback (most recent call last)",
      "\u001b[1;32m<ipython-input-9-3aa88aaf7e15>\u001b[0m in \u001b[0;36m<module>\u001b[1;34m\u001b[0m\n\u001b[1;32m----> 1\u001b[1;33m \u001b[0mrasterio\u001b[0m\u001b[1;33m.\u001b[0m\u001b[0mcrs\u001b[0m\u001b[1;33m.\u001b[0m\u001b[0mCRS\u001b[0m\u001b[1;33m.\u001b[0m\u001b[0mwkt\u001b[0m\u001b[1;33m(\u001b[0m\u001b[0mimg\u001b[0m\u001b[1;33m)\u001b[0m\u001b[1;33m\u001b[0m\u001b[1;33m\u001b[0m\u001b[0m\n\u001b[0m",
      "\u001b[1;31mTypeError\u001b[0m: 'property' object is not callable"
     ]
    }
   ],
   "source": [
    "rasterio.crs.CRS.wkt(img)"
   ]
  },
  {
   "cell_type": "code",
   "execution_count": null,
   "metadata": {},
   "outputs": [],
   "source": []
  }
 ],
 "metadata": {
  "language_info": {
   "codemirror_mode": {
    "name": "ipython",
    "version": 3
   },
   "file_extension": ".py",
   "mimetype": "text/x-python",
   "name": "python",
   "nbconvert_exporter": "python",
   "pygments_lexer": "ipython3",
   "version": "3.6.9-final"
  },
  "orig_nbformat": 2,
  "kernelspec": {
   "name": "python36964bitrspysalcondaabe4fe5fc00341bc8a11118ac2f581a7",
   "display_name": "Python 3.6.9 64-bit ('rs_pysal': conda)"
  }
 },
 "nbformat": 4,
 "nbformat_minor": 2
}